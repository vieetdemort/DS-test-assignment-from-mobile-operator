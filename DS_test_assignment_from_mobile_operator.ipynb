{
  "nbformat": 4,
  "nbformat_minor": 0,
  "metadata": {
    "colab": {
      "provenance": [],
      "authorship_tag": "ABX9TyMvdrVxiRWztZ09rOpXNZ7o"
    },
    "kernelspec": {
      "name": "python3",
      "display_name": "Python 3"
    },
    "language_info": {
      "name": "python"
    }
  },
  "cells": [
    {
      "cell_type": "markdown",
      "source": [
        "# **DS** test assignment from mobile operator"
      ],
      "metadata": {
        "id": "xfRO21lv5w77"
      }
    },
    {
      "cell_type": "markdown",
      "source": [
        "Binary classification problem:\n",
        "\"1\" - the subscriber is a driver (belongs to the drivers segment),\n",
        "\"0\" - the subscriber is not a driver (does not belong to the drivers segment).\n",
        "\n",
        "The files tabular_data.csv and hashed_feature.csv ̶ here are descriptive characteristics for 4084 subscribers (\"ID\" is the subscriber ID).\n",
        "The train.csv file ̶ is the target label data (the subscriber's belonging to the driver segment).\n",
        "File test.csv ̶ is the list of subscribers for which we want to make a prediction, by which we will evaluate the quality of the model. The ROC-AUC is used as the metric.\n",
        "\n",
        "\"The file tabular_data.csv contains the numeric data on the activity of subscribers for 12 periods.\n",
        "- period - period number (periods are consecutive, 1 is the newest)\n",
        "- id - subscriber ID\n",
        "- feature_0 - feature_49 - data on the subscriber's activity in the corresponding period.\n",
        "\n",
        "\n",
        "\"File hashed_feature.csv - here is the set of hashed values of one categorical variable for the subscriber.\n",
        "- id - subscriber's identifier\n",
        "- feature_50 - hash of the value of the categorical variable.\n",
        "\n",
        "\n",
        "\"File train.csv - here is the data with the target label.\n",
        "- id - identifier of the target\n",
        "- target - target label value (1 - belongs to drivers segment, 0 - does not belong to drivers segment).\n",
        "\n",
        "\n",
        "\"test.csv file - list of subscribers for which you want to make predictions with your models.\n",
        "- id - the subscriber's identifier\n",
        "- score - the probability that the caller belongs to the drivers segment (class \"1\"). This probability is determined by your model.\n",
        "\n",
        "\n",
        "You need to build your model on the subscribers whose target label is contained in the train.csv file. \n",
        "To do this, you need to use data from tabular_data.csv and hashed_feature.csv files. \n",
        "Then, using your model, you need to fill in the score column for the subscribers from the test.csv file - the probability that the subscriber belongs to the driver segment. \n",
        "Note that you need to predict the fact of the relation to the drivers segment, without reference to the period.\n",
        "\n",
        "**P.S. The target in ROC-AUC is 90%+**"
      ],
      "metadata": {
        "id": "6ZqLZygA8EHC"
      }
    },
    {
      "cell_type": "code",
      "execution_count": null,
      "metadata": {
        "id": "jDjsY6sw5uay"
      },
      "outputs": [],
      "source": []
    }
  ]
}