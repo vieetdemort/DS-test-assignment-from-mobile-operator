{
  "nbformat": 4,
  "nbformat_minor": 0,
  "metadata": {
    "colab": {
      "provenance": [],
      "authorship_tag": "ABX9TyMZJ8uX6NR11Rz9/VfiSfKG"
    },
    "kernelspec": {
      "name": "python3",
      "display_name": "Python 3"
    },
    "language_info": {
      "name": "python"
    }
  },
  "cells": [
    {
      "cell_type": "markdown",
      "source": [
        "# **DS** test assignment from mobile operator"
      ],
      "metadata": {
        "id": "xfRO21lv5w77"
      }
    },
    {
      "cell_type": "markdown",
      "source": [
        "Binary classification problem:\n",
        "\"1\" - the subscriber is a driver (belongs to the drivers segment),\n",
        "\"0\" - the subscriber is not a driver (does not belong to the drivers segment).\n",
        "\n",
        "The files tabular_data.csv and hashed_feature.csv ̶ here are descriptive characteristics for 4084 subscribers (\"ID\" is the subscriber ID).\n",
        "The train.csv file ̶ is the target label data (the subscriber's belonging to the driver segment).\n",
        "File test.csv ̶ is the list of subscribers for which we want to make a prediction, by which we will evaluate the quality of the model. The ROC-AUC is used as the metric.\n",
        "\n",
        "\"The file tabular_data.csv contains the numeric data on the activity of subscribers for 12 periods.\n",
        "- period - period number (periods are consecutive, 1 is the newest)\n",
        "- id - subscriber ID\n",
        "- feature_0 - feature_49 - data on the subscriber's activity in the corresponding period.\n",
        "\n",
        "\n",
        "\"File hashed_feature.csv - here is the set of hashed values of one categorical variable for the subscriber.\n",
        "- id - subscriber's identifier\n",
        "- feature_50 - hash of the value of the categorical variable.\n",
        "\n",
        "\n",
        "\"File train.csv - here is the data with the target label.\n",
        "- id - identifier of the target\n",
        "- target - target label value (1 - belongs to drivers segment, 0 - does not belong to drivers segment).\n",
        "\n",
        "\n",
        "\"test.csv file - list of subscribers for which you want to make predictions with your models.\n",
        "- id - the subscriber's identifier\n",
        "- score - the probability that the caller belongs to the drivers segment (class \"1\"). This probability is determined by your model.\n",
        "\n",
        "\n",
        "You need to build your model on the subscribers whose target label is contained in the train.csv file. \n",
        "To do this, you need to use data from tabular_data.csv and hashed_feature.csv files. \n",
        "Then, using your model, you need to fill in the score column for the subscribers from the test.csv file - the probability that the subscriber belongs to the driver segment. \n",
        "Note that you need to predict the fact of the relation to the drivers segment, without reference to the period.\n",
        "\n",
        "**P.S. The target in ROC-AUC is 90%+**"
      ],
      "metadata": {
        "id": "6ZqLZygA8EHC"
      }
    },
    {
      "cell_type": "code",
      "execution_count": 17,
      "metadata": {
        "id": "jDjsY6sw5uay"
      },
      "outputs": [],
      "source": [
        "import pandas as pd\n",
        "import numpy as np\n",
        "from sklearn.model_selection import train_test_split\n",
        "from sklearn.metrics import r2_score, roc_auc_score"
      ]
    },
    {
      "cell_type": "code",
      "source": [
        "train = pd.read_csv('train.csv')"
      ],
      "metadata": {
        "id": "6q2IryID_y2s"
      },
      "execution_count": 4,
      "outputs": []
    },
    {
      "cell_type": "code",
      "source": [
        "train"
      ],
      "metadata": {
        "colab": {
          "base_uri": "https://localhost:8080/",
          "height": 423
        },
        "id": "yV8i7eNi_4nP",
        "outputId": "6459b7da-ffc6-42b9-c589-cceb2f1957d7"
      },
      "execution_count": 5,
      "outputs": [
        {
          "output_type": "execute_result",
          "data": {
            "text/plain": [
              "        id  target\n",
              "0        0       0\n",
              "1        1       0\n",
              "2        2       1\n",
              "3        3       0\n",
              "4        4       1\n",
              "...    ...     ...\n",
              "4079  4079       0\n",
              "4080  4080       0\n",
              "4081  4081       0\n",
              "4082  4082       0\n",
              "4083  4083       0\n",
              "\n",
              "[4084 rows x 2 columns]"
            ],
            "text/html": [
              "\n",
              "  <div id=\"df-92a274d7-5af6-44f3-9dc2-8d84b27b9641\">\n",
              "    <div class=\"colab-df-container\">\n",
              "      <div>\n",
              "<style scoped>\n",
              "    .dataframe tbody tr th:only-of-type {\n",
              "        vertical-align: middle;\n",
              "    }\n",
              "\n",
              "    .dataframe tbody tr th {\n",
              "        vertical-align: top;\n",
              "    }\n",
              "\n",
              "    .dataframe thead th {\n",
              "        text-align: right;\n",
              "    }\n",
              "</style>\n",
              "<table border=\"1\" class=\"dataframe\">\n",
              "  <thead>\n",
              "    <tr style=\"text-align: right;\">\n",
              "      <th></th>\n",
              "      <th>id</th>\n",
              "      <th>target</th>\n",
              "    </tr>\n",
              "  </thead>\n",
              "  <tbody>\n",
              "    <tr>\n",
              "      <th>0</th>\n",
              "      <td>0</td>\n",
              "      <td>0</td>\n",
              "    </tr>\n",
              "    <tr>\n",
              "      <th>1</th>\n",
              "      <td>1</td>\n",
              "      <td>0</td>\n",
              "    </tr>\n",
              "    <tr>\n",
              "      <th>2</th>\n",
              "      <td>2</td>\n",
              "      <td>1</td>\n",
              "    </tr>\n",
              "    <tr>\n",
              "      <th>3</th>\n",
              "      <td>3</td>\n",
              "      <td>0</td>\n",
              "    </tr>\n",
              "    <tr>\n",
              "      <th>4</th>\n",
              "      <td>4</td>\n",
              "      <td>1</td>\n",
              "    </tr>\n",
              "    <tr>\n",
              "      <th>...</th>\n",
              "      <td>...</td>\n",
              "      <td>...</td>\n",
              "    </tr>\n",
              "    <tr>\n",
              "      <th>4079</th>\n",
              "      <td>4079</td>\n",
              "      <td>0</td>\n",
              "    </tr>\n",
              "    <tr>\n",
              "      <th>4080</th>\n",
              "      <td>4080</td>\n",
              "      <td>0</td>\n",
              "    </tr>\n",
              "    <tr>\n",
              "      <th>4081</th>\n",
              "      <td>4081</td>\n",
              "      <td>0</td>\n",
              "    </tr>\n",
              "    <tr>\n",
              "      <th>4082</th>\n",
              "      <td>4082</td>\n",
              "      <td>0</td>\n",
              "    </tr>\n",
              "    <tr>\n",
              "      <th>4083</th>\n",
              "      <td>4083</td>\n",
              "      <td>0</td>\n",
              "    </tr>\n",
              "  </tbody>\n",
              "</table>\n",
              "<p>4084 rows × 2 columns</p>\n",
              "</div>\n",
              "      <button class=\"colab-df-convert\" onclick=\"convertToInteractive('df-92a274d7-5af6-44f3-9dc2-8d84b27b9641')\"\n",
              "              title=\"Convert this dataframe to an interactive table.\"\n",
              "              style=\"display:none;\">\n",
              "        \n",
              "  <svg xmlns=\"http://www.w3.org/2000/svg\" height=\"24px\"viewBox=\"0 0 24 24\"\n",
              "       width=\"24px\">\n",
              "    <path d=\"M0 0h24v24H0V0z\" fill=\"none\"/>\n",
              "    <path d=\"M18.56 5.44l.94 2.06.94-2.06 2.06-.94-2.06-.94-.94-2.06-.94 2.06-2.06.94zm-11 1L8.5 8.5l.94-2.06 2.06-.94-2.06-.94L8.5 2.5l-.94 2.06-2.06.94zm10 10l.94 2.06.94-2.06 2.06-.94-2.06-.94-.94-2.06-.94 2.06-2.06.94z\"/><path d=\"M17.41 7.96l-1.37-1.37c-.4-.4-.92-.59-1.43-.59-.52 0-1.04.2-1.43.59L10.3 9.45l-7.72 7.72c-.78.78-.78 2.05 0 2.83L4 21.41c.39.39.9.59 1.41.59.51 0 1.02-.2 1.41-.59l7.78-7.78 2.81-2.81c.8-.78.8-2.07 0-2.86zM5.41 20L4 18.59l7.72-7.72 1.47 1.35L5.41 20z\"/>\n",
              "  </svg>\n",
              "      </button>\n",
              "      \n",
              "  <style>\n",
              "    .colab-df-container {\n",
              "      display:flex;\n",
              "      flex-wrap:wrap;\n",
              "      gap: 12px;\n",
              "    }\n",
              "\n",
              "    .colab-df-convert {\n",
              "      background-color: #E8F0FE;\n",
              "      border: none;\n",
              "      border-radius: 50%;\n",
              "      cursor: pointer;\n",
              "      display: none;\n",
              "      fill: #1967D2;\n",
              "      height: 32px;\n",
              "      padding: 0 0 0 0;\n",
              "      width: 32px;\n",
              "    }\n",
              "\n",
              "    .colab-df-convert:hover {\n",
              "      background-color: #E2EBFA;\n",
              "      box-shadow: 0px 1px 2px rgba(60, 64, 67, 0.3), 0px 1px 3px 1px rgba(60, 64, 67, 0.15);\n",
              "      fill: #174EA6;\n",
              "    }\n",
              "\n",
              "    [theme=dark] .colab-df-convert {\n",
              "      background-color: #3B4455;\n",
              "      fill: #D2E3FC;\n",
              "    }\n",
              "\n",
              "    [theme=dark] .colab-df-convert:hover {\n",
              "      background-color: #434B5C;\n",
              "      box-shadow: 0px 1px 3px 1px rgba(0, 0, 0, 0.15);\n",
              "      filter: drop-shadow(0px 1px 2px rgba(0, 0, 0, 0.3));\n",
              "      fill: #FFFFFF;\n",
              "    }\n",
              "  </style>\n",
              "\n",
              "      <script>\n",
              "        const buttonEl =\n",
              "          document.querySelector('#df-92a274d7-5af6-44f3-9dc2-8d84b27b9641 button.colab-df-convert');\n",
              "        buttonEl.style.display =\n",
              "          google.colab.kernel.accessAllowed ? 'block' : 'none';\n",
              "\n",
              "        async function convertToInteractive(key) {\n",
              "          const element = document.querySelector('#df-92a274d7-5af6-44f3-9dc2-8d84b27b9641');\n",
              "          const dataTable =\n",
              "            await google.colab.kernel.invokeFunction('convertToInteractive',\n",
              "                                                     [key], {});\n",
              "          if (!dataTable) return;\n",
              "\n",
              "          const docLinkHtml = 'Like what you see? Visit the ' +\n",
              "            '<a target=\"_blank\" href=https://colab.research.google.com/notebooks/data_table.ipynb>data table notebook</a>'\n",
              "            + ' to learn more about interactive tables.';\n",
              "          element.innerHTML = '';\n",
              "          dataTable['output_type'] = 'display_data';\n",
              "          await google.colab.output.renderOutput(dataTable, element);\n",
              "          const docLink = document.createElement('div');\n",
              "          docLink.innerHTML = docLinkHtml;\n",
              "          element.appendChild(docLink);\n",
              "        }\n",
              "      </script>\n",
              "    </div>\n",
              "  </div>\n",
              "  "
            ]
          },
          "metadata": {},
          "execution_count": 5
        }
      ]
    },
    {
      "cell_type": "code",
      "source": [
        "tabular_data = pd.read_csv('tabular_data.csv')"
      ],
      "metadata": {
        "id": "TpphFgTY_8mP"
      },
      "execution_count": 6,
      "outputs": []
    },
    {
      "cell_type": "code",
      "source": [
        "tabular_data.head()"
      ],
      "metadata": {
        "colab": {
          "base_uri": "https://localhost:8080/",
          "height": 299
        },
        "id": "zZty0aQaAHTP",
        "outputId": "44a8fffe-b419-4ec3-aeef-64942276d563"
      },
      "execution_count": 7,
      "outputs": [
        {
          "output_type": "execute_result",
          "data": {
            "text/plain": [
              "   id  period  feature_0  feature_1  feature_2   feature_3  feature_4  \\\n",
              "0   0       1      110.0       55.0   0.432017    0.000000     176.78   \n",
              "1   0       2      110.0      110.0   0.397517    0.000000     315.42   \n",
              "2   0       3      110.0       55.0   0.359440    0.000000     354.55   \n",
              "3   0       4      110.0       55.0   0.285707    0.000000     229.98   \n",
              "4   0       5      110.0       55.0   0.101487  444.730391     307.12   \n",
              "\n",
              "   feature_5  feature_6  feature_7  ...  feature_40  feature_41  feature_42  \\\n",
              "0        0.0   0.323712        NaN  ...        0.00           0    0.000000   \n",
              "1        0.0   0.316798        NaN  ...        0.00           0    0.000000   \n",
              "2        0.0   0.339188        NaN  ...        0.07           0    0.000000   \n",
              "3        0.0   0.415428        NaN  ...        0.00           0    0.000000   \n",
              "4        0.0   0.569670        NaN  ...        0.95           0   20.014485   \n",
              "\n",
              "   feature_43  feature_44  feature_45  feature_46  feature_47  feature_48  \\\n",
              "0         0.0        55.0         2.0    0.526552       145.0      133.28   \n",
              "1         0.0       110.0         1.0    0.481063       130.0      229.97   \n",
              "2         0.0        55.0         1.0    0.509598       180.0      231.78   \n",
              "3         0.0        55.0         0.0    0.680089       142.0      183.83   \n",
              "4         0.0        55.0         0.0    0.776175        85.0      155.83   \n",
              "\n",
              "   feature_49  \n",
              "0         0.0  \n",
              "1         0.0  \n",
              "2         0.0  \n",
              "3         0.0  \n",
              "4         0.0  \n",
              "\n",
              "[5 rows x 52 columns]"
            ],
            "text/html": [
              "\n",
              "  <div id=\"df-fb147bb0-7c35-4aa4-a8bd-9b2f9126044c\">\n",
              "    <div class=\"colab-df-container\">\n",
              "      <div>\n",
              "<style scoped>\n",
              "    .dataframe tbody tr th:only-of-type {\n",
              "        vertical-align: middle;\n",
              "    }\n",
              "\n",
              "    .dataframe tbody tr th {\n",
              "        vertical-align: top;\n",
              "    }\n",
              "\n",
              "    .dataframe thead th {\n",
              "        text-align: right;\n",
              "    }\n",
              "</style>\n",
              "<table border=\"1\" class=\"dataframe\">\n",
              "  <thead>\n",
              "    <tr style=\"text-align: right;\">\n",
              "      <th></th>\n",
              "      <th>id</th>\n",
              "      <th>period</th>\n",
              "      <th>feature_0</th>\n",
              "      <th>feature_1</th>\n",
              "      <th>feature_2</th>\n",
              "      <th>feature_3</th>\n",
              "      <th>feature_4</th>\n",
              "      <th>feature_5</th>\n",
              "      <th>feature_6</th>\n",
              "      <th>feature_7</th>\n",
              "      <th>...</th>\n",
              "      <th>feature_40</th>\n",
              "      <th>feature_41</th>\n",
              "      <th>feature_42</th>\n",
              "      <th>feature_43</th>\n",
              "      <th>feature_44</th>\n",
              "      <th>feature_45</th>\n",
              "      <th>feature_46</th>\n",
              "      <th>feature_47</th>\n",
              "      <th>feature_48</th>\n",
              "      <th>feature_49</th>\n",
              "    </tr>\n",
              "  </thead>\n",
              "  <tbody>\n",
              "    <tr>\n",
              "      <th>0</th>\n",
              "      <td>0</td>\n",
              "      <td>1</td>\n",
              "      <td>110.0</td>\n",
              "      <td>55.0</td>\n",
              "      <td>0.432017</td>\n",
              "      <td>0.000000</td>\n",
              "      <td>176.78</td>\n",
              "      <td>0.0</td>\n",
              "      <td>0.323712</td>\n",
              "      <td>NaN</td>\n",
              "      <td>...</td>\n",
              "      <td>0.00</td>\n",
              "      <td>0</td>\n",
              "      <td>0.000000</td>\n",
              "      <td>0.0</td>\n",
              "      <td>55.0</td>\n",
              "      <td>2.0</td>\n",
              "      <td>0.526552</td>\n",
              "      <td>145.0</td>\n",
              "      <td>133.28</td>\n",
              "      <td>0.0</td>\n",
              "    </tr>\n",
              "    <tr>\n",
              "      <th>1</th>\n",
              "      <td>0</td>\n",
              "      <td>2</td>\n",
              "      <td>110.0</td>\n",
              "      <td>110.0</td>\n",
              "      <td>0.397517</td>\n",
              "      <td>0.000000</td>\n",
              "      <td>315.42</td>\n",
              "      <td>0.0</td>\n",
              "      <td>0.316798</td>\n",
              "      <td>NaN</td>\n",
              "      <td>...</td>\n",
              "      <td>0.00</td>\n",
              "      <td>0</td>\n",
              "      <td>0.000000</td>\n",
              "      <td>0.0</td>\n",
              "      <td>110.0</td>\n",
              "      <td>1.0</td>\n",
              "      <td>0.481063</td>\n",
              "      <td>130.0</td>\n",
              "      <td>229.97</td>\n",
              "      <td>0.0</td>\n",
              "    </tr>\n",
              "    <tr>\n",
              "      <th>2</th>\n",
              "      <td>0</td>\n",
              "      <td>3</td>\n",
              "      <td>110.0</td>\n",
              "      <td>55.0</td>\n",
              "      <td>0.359440</td>\n",
              "      <td>0.000000</td>\n",
              "      <td>354.55</td>\n",
              "      <td>0.0</td>\n",
              "      <td>0.339188</td>\n",
              "      <td>NaN</td>\n",
              "      <td>...</td>\n",
              "      <td>0.07</td>\n",
              "      <td>0</td>\n",
              "      <td>0.000000</td>\n",
              "      <td>0.0</td>\n",
              "      <td>55.0</td>\n",
              "      <td>1.0</td>\n",
              "      <td>0.509598</td>\n",
              "      <td>180.0</td>\n",
              "      <td>231.78</td>\n",
              "      <td>0.0</td>\n",
              "    </tr>\n",
              "    <tr>\n",
              "      <th>3</th>\n",
              "      <td>0</td>\n",
              "      <td>4</td>\n",
              "      <td>110.0</td>\n",
              "      <td>55.0</td>\n",
              "      <td>0.285707</td>\n",
              "      <td>0.000000</td>\n",
              "      <td>229.98</td>\n",
              "      <td>0.0</td>\n",
              "      <td>0.415428</td>\n",
              "      <td>NaN</td>\n",
              "      <td>...</td>\n",
              "      <td>0.00</td>\n",
              "      <td>0</td>\n",
              "      <td>0.000000</td>\n",
              "      <td>0.0</td>\n",
              "      <td>55.0</td>\n",
              "      <td>0.0</td>\n",
              "      <td>0.680089</td>\n",
              "      <td>142.0</td>\n",
              "      <td>183.83</td>\n",
              "      <td>0.0</td>\n",
              "    </tr>\n",
              "    <tr>\n",
              "      <th>4</th>\n",
              "      <td>0</td>\n",
              "      <td>5</td>\n",
              "      <td>110.0</td>\n",
              "      <td>55.0</td>\n",
              "      <td>0.101487</td>\n",
              "      <td>444.730391</td>\n",
              "      <td>307.12</td>\n",
              "      <td>0.0</td>\n",
              "      <td>0.569670</td>\n",
              "      <td>NaN</td>\n",
              "      <td>...</td>\n",
              "      <td>0.95</td>\n",
              "      <td>0</td>\n",
              "      <td>20.014485</td>\n",
              "      <td>0.0</td>\n",
              "      <td>55.0</td>\n",
              "      <td>0.0</td>\n",
              "      <td>0.776175</td>\n",
              "      <td>85.0</td>\n",
              "      <td>155.83</td>\n",
              "      <td>0.0</td>\n",
              "    </tr>\n",
              "  </tbody>\n",
              "</table>\n",
              "<p>5 rows × 52 columns</p>\n",
              "</div>\n",
              "      <button class=\"colab-df-convert\" onclick=\"convertToInteractive('df-fb147bb0-7c35-4aa4-a8bd-9b2f9126044c')\"\n",
              "              title=\"Convert this dataframe to an interactive table.\"\n",
              "              style=\"display:none;\">\n",
              "        \n",
              "  <svg xmlns=\"http://www.w3.org/2000/svg\" height=\"24px\"viewBox=\"0 0 24 24\"\n",
              "       width=\"24px\">\n",
              "    <path d=\"M0 0h24v24H0V0z\" fill=\"none\"/>\n",
              "    <path d=\"M18.56 5.44l.94 2.06.94-2.06 2.06-.94-2.06-.94-.94-2.06-.94 2.06-2.06.94zm-11 1L8.5 8.5l.94-2.06 2.06-.94-2.06-.94L8.5 2.5l-.94 2.06-2.06.94zm10 10l.94 2.06.94-2.06 2.06-.94-2.06-.94-.94-2.06-.94 2.06-2.06.94z\"/><path d=\"M17.41 7.96l-1.37-1.37c-.4-.4-.92-.59-1.43-.59-.52 0-1.04.2-1.43.59L10.3 9.45l-7.72 7.72c-.78.78-.78 2.05 0 2.83L4 21.41c.39.39.9.59 1.41.59.51 0 1.02-.2 1.41-.59l7.78-7.78 2.81-2.81c.8-.78.8-2.07 0-2.86zM5.41 20L4 18.59l7.72-7.72 1.47 1.35L5.41 20z\"/>\n",
              "  </svg>\n",
              "      </button>\n",
              "      \n",
              "  <style>\n",
              "    .colab-df-container {\n",
              "      display:flex;\n",
              "      flex-wrap:wrap;\n",
              "      gap: 12px;\n",
              "    }\n",
              "\n",
              "    .colab-df-convert {\n",
              "      background-color: #E8F0FE;\n",
              "      border: none;\n",
              "      border-radius: 50%;\n",
              "      cursor: pointer;\n",
              "      display: none;\n",
              "      fill: #1967D2;\n",
              "      height: 32px;\n",
              "      padding: 0 0 0 0;\n",
              "      width: 32px;\n",
              "    }\n",
              "\n",
              "    .colab-df-convert:hover {\n",
              "      background-color: #E2EBFA;\n",
              "      box-shadow: 0px 1px 2px rgba(60, 64, 67, 0.3), 0px 1px 3px 1px rgba(60, 64, 67, 0.15);\n",
              "      fill: #174EA6;\n",
              "    }\n",
              "\n",
              "    [theme=dark] .colab-df-convert {\n",
              "      background-color: #3B4455;\n",
              "      fill: #D2E3FC;\n",
              "    }\n",
              "\n",
              "    [theme=dark] .colab-df-convert:hover {\n",
              "      background-color: #434B5C;\n",
              "      box-shadow: 0px 1px 3px 1px rgba(0, 0, 0, 0.15);\n",
              "      filter: drop-shadow(0px 1px 2px rgba(0, 0, 0, 0.3));\n",
              "      fill: #FFFFFF;\n",
              "    }\n",
              "  </style>\n",
              "\n",
              "      <script>\n",
              "        const buttonEl =\n",
              "          document.querySelector('#df-fb147bb0-7c35-4aa4-a8bd-9b2f9126044c button.colab-df-convert');\n",
              "        buttonEl.style.display =\n",
              "          google.colab.kernel.accessAllowed ? 'block' : 'none';\n",
              "\n",
              "        async function convertToInteractive(key) {\n",
              "          const element = document.querySelector('#df-fb147bb0-7c35-4aa4-a8bd-9b2f9126044c');\n",
              "          const dataTable =\n",
              "            await google.colab.kernel.invokeFunction('convertToInteractive',\n",
              "                                                     [key], {});\n",
              "          if (!dataTable) return;\n",
              "\n",
              "          const docLinkHtml = 'Like what you see? Visit the ' +\n",
              "            '<a target=\"_blank\" href=https://colab.research.google.com/notebooks/data_table.ipynb>data table notebook</a>'\n",
              "            + ' to learn more about interactive tables.';\n",
              "          element.innerHTML = '';\n",
              "          dataTable['output_type'] = 'display_data';\n",
              "          await google.colab.output.renderOutput(dataTable, element);\n",
              "          const docLink = document.createElement('div');\n",
              "          docLink.innerHTML = docLinkHtml;\n",
              "          element.appendChild(docLink);\n",
              "        }\n",
              "      </script>\n",
              "    </div>\n",
              "  </div>\n",
              "  "
            ]
          },
          "metadata": {},
          "execution_count": 7
        }
      ]
    },
    {
      "cell_type": "markdown",
      "source": [
        "## let's make a prediction on the last period, just to understand what the results will be and what we do next "
      ],
      "metadata": {
        "id": "QKLBMiz8B9dz"
      }
    },
    {
      "cell_type": "code",
      "source": [
        "df = train.merge(tabular_data[tabular_data['period'] == 1], how='left', on='id')"
      ],
      "metadata": {
        "id": "qOHrlBfGAJu_"
      },
      "execution_count": 8,
      "outputs": []
    },
    {
      "cell_type": "code",
      "source": [
        "df.isna().mean().sort_values(ascending=False)"
      ],
      "metadata": {
        "colab": {
          "base_uri": "https://localhost:8080/"
        },
        "id": "hxOB2Yc9Ckg3",
        "outputId": "729a27b2-d326-4242-a8b3-94cc34aaaa05"
      },
      "execution_count": 11,
      "outputs": [
        {
          "output_type": "execute_result",
          "data": {
            "text/plain": [
              "feature_33    0.030362\n",
              "feature_6     0.028648\n",
              "feature_19    0.027914\n",
              "feature_2     0.027179\n",
              "feature_12    0.025955\n",
              "feature_46    0.025465\n",
              "feature_16    0.024486\n",
              "feature_23    0.023751\n",
              "feature_11    0.023751\n",
              "feature_13    0.023017\n",
              "feature_5     0.022527\n",
              "feature_35    0.022527\n",
              "feature_18    0.022282\n",
              "feature_10    0.021548\n",
              "feature_48    0.021548\n",
              "feature_7     0.021303\n",
              "feature_32    0.021058\n",
              "feature_43    0.020813\n",
              "feature_9     0.020813\n",
              "feature_28    0.020568\n",
              "feature_4     0.020568\n",
              "feature_24    0.020078\n",
              "feature_45    0.019833\n",
              "feature_3     0.019833\n",
              "feature_31    0.019833\n",
              "feature_34    0.019833\n",
              "feature_20    0.019589\n",
              "feature_22    0.019344\n",
              "feature_49    0.019099\n",
              "feature_14    0.019099\n",
              "feature_1     0.018854\n",
              "feature_15    0.018609\n",
              "feature_40    0.018609\n",
              "feature_27    0.018364\n",
              "feature_36    0.018364\n",
              "feature_8     0.018364\n",
              "feature_30    0.018119\n",
              "feature_47    0.017875\n",
              "feature_37    0.017875\n",
              "feature_42    0.017630\n",
              "feature_21    0.017385\n",
              "feature_44    0.017385\n",
              "feature_39    0.017385\n",
              "feature_0     0.016405\n",
              "feature_26    0.015426\n",
              "feature_29    0.013222\n",
              "period        0.000000\n",
              "feature_38    0.000000\n",
              "feature_41    0.000000\n",
              "feature_17    0.000000\n",
              "target        0.000000\n",
              "feature_25    0.000000\n",
              "id            0.000000\n",
              "dtype: float64"
            ]
          },
          "metadata": {},
          "execution_count": 11
        }
      ]
    },
    {
      "cell_type": "code",
      "source": [
        "(df.dtypes).value_counts()"
      ],
      "metadata": {
        "colab": {
          "base_uri": "https://localhost:8080/"
        },
        "id": "NyzYS0V6CvWR",
        "outputId": "3e593a12-7329-45f5-cc10-691115f578ab"
      },
      "execution_count": 14,
      "outputs": [
        {
          "output_type": "execute_result",
          "data": {
            "text/plain": [
              "float64    48\n",
              "int64       4\n",
              "object      1\n",
              "dtype: int64"
            ]
          },
          "metadata": {},
          "execution_count": 14
        }
      ]
    },
    {
      "cell_type": "code",
      "source": [
        "X = df.drop(columns=['target']).copy()\n",
        "Y = df['target']"
      ],
      "metadata": {
        "id": "ROD0RfyvDEcZ"
      },
      "execution_count": 15,
      "outputs": []
    },
    {
      "cell_type": "code",
      "source": [
        "cat_features = ['feature_25']"
      ],
      "metadata": {
        "id": "PbhWWeRsEZgF"
      },
      "execution_count": 16,
      "outputs": []
    },
    {
      "cell_type": "code",
      "source": [
        "X_train, X_test, y_train, y_test = train_test_split(X, Y, test_size=0.3, random_state=42)"
      ],
      "metadata": {
        "id": "Ws-MqKDdEg0h"
      },
      "execution_count": 18,
      "outputs": []
    },
    {
      "cell_type": "code",
      "source": [
        "! pip install catboost"
      ],
      "metadata": {
        "colab": {
          "base_uri": "https://localhost:8080/"
        },
        "id": "cfxWTiD2EyRZ",
        "outputId": "0d6d56b1-36a9-49b8-cdb1-b3f101e5d3c0"
      },
      "execution_count": 20,
      "outputs": [
        {
          "output_type": "stream",
          "name": "stdout",
          "text": [
            "Looking in indexes: https://pypi.org/simple, https://us-python.pkg.dev/colab-wheels/public/simple/\n",
            "Collecting catboost\n",
            "  Downloading catboost-1.1.1-cp38-none-manylinux1_x86_64.whl (76.6 MB)\n",
            "\u001b[K     |████████████████████████████████| 76.6 MB 1.2 MB/s \n",
            "\u001b[?25hRequirement already satisfied: plotly in /usr/local/lib/python3.8/dist-packages (from catboost) (5.5.0)\n",
            "Requirement already satisfied: numpy>=1.16.0 in /usr/local/lib/python3.8/dist-packages (from catboost) (1.21.6)\n",
            "Requirement already satisfied: matplotlib in /usr/local/lib/python3.8/dist-packages (from catboost) (3.2.2)\n",
            "Requirement already satisfied: graphviz in /usr/local/lib/python3.8/dist-packages (from catboost) (0.10.1)\n",
            "Requirement already satisfied: pandas>=0.24.0 in /usr/local/lib/python3.8/dist-packages (from catboost) (1.3.5)\n",
            "Requirement already satisfied: scipy in /usr/local/lib/python3.8/dist-packages (from catboost) (1.7.3)\n",
            "Requirement already satisfied: six in /usr/local/lib/python3.8/dist-packages (from catboost) (1.15.0)\n",
            "Requirement already satisfied: python-dateutil>=2.7.3 in /usr/local/lib/python3.8/dist-packages (from pandas>=0.24.0->catboost) (2.8.2)\n",
            "Requirement already satisfied: pytz>=2017.3 in /usr/local/lib/python3.8/dist-packages (from pandas>=0.24.0->catboost) (2022.6)\n",
            "Requirement already satisfied: kiwisolver>=1.0.1 in /usr/local/lib/python3.8/dist-packages (from matplotlib->catboost) (1.4.4)\n",
            "Requirement already satisfied: cycler>=0.10 in /usr/local/lib/python3.8/dist-packages (from matplotlib->catboost) (0.11.0)\n",
            "Requirement already satisfied: pyparsing!=2.0.4,!=2.1.2,!=2.1.6,>=2.0.1 in /usr/local/lib/python3.8/dist-packages (from matplotlib->catboost) (3.0.9)\n",
            "Requirement already satisfied: tenacity>=6.2.0 in /usr/local/lib/python3.8/dist-packages (from plotly->catboost) (8.1.0)\n",
            "Installing collected packages: catboost\n",
            "Successfully installed catboost-1.1.1\n"
          ]
        }
      ]
    },
    {
      "cell_type": "code",
      "source": [
        "from catboost import CatBoostClassifier\n"
      ],
      "metadata": {
        "id": "IrUkItjHFMaq"
      },
      "execution_count": 21,
      "outputs": []
    },
    {
      "cell_type": "code",
      "source": [
        "model = CatBoostClassifier(verbose=100, eval_metric='AUC', cat_features=cat_features)"
      ],
      "metadata": {
        "id": "A8PyXq_lFUZP"
      },
      "execution_count": 22,
      "outputs": []
    },
    {
      "cell_type": "code",
      "source": [
        "model.fit(X_train, y_train, eval_set=(X_test,y_test))"
      ],
      "metadata": {
        "colab": {
          "base_uri": "https://localhost:8080/"
        },
        "id": "7UYKPDtFFf5B",
        "outputId": "2f1bac28-cc2e-4c7f-f251-9f2b939fecf4"
      },
      "execution_count": 24,
      "outputs": [
        {
          "output_type": "stream",
          "name": "stdout",
          "text": [
            "Learning rate set to 0.041073\n",
            "0:\ttest: 0.6778916\tbest: 0.6778916 (0)\ttotal: 10.9ms\tremaining: 10.9s\n",
            "100:\ttest: 0.7338621\tbest: 0.7339603 (97)\ttotal: 1.07s\tremaining: 9.51s\n",
            "200:\ttest: 0.7359767\tbest: 0.7371970 (140)\ttotal: 2.12s\tremaining: 8.42s\n",
            "300:\ttest: 0.7332625\tbest: 0.7373057 (254)\ttotal: 3.19s\tremaining: 7.41s\n",
            "400:\ttest: 0.7348054\tbest: 0.7373057 (254)\ttotal: 4.25s\tremaining: 6.34s\n",
            "500:\ttest: 0.7287739\tbest: 0.7373057 (254)\ttotal: 5.28s\tremaining: 5.26s\n",
            "600:\ttest: 0.7248499\tbest: 0.7373057 (254)\ttotal: 6.33s\tremaining: 4.2s\n",
            "700:\ttest: 0.7218622\tbest: 0.7373057 (254)\ttotal: 7.39s\tremaining: 3.15s\n",
            "800:\ttest: 0.7203578\tbest: 0.7373057 (254)\ttotal: 8.43s\tremaining: 2.1s\n",
            "900:\ttest: 0.7185729\tbest: 0.7373057 (254)\ttotal: 9.52s\tremaining: 1.04s\n",
            "999:\ttest: 0.7159148\tbest: 0.7373057 (254)\ttotal: 10.6s\tremaining: 0us\n",
            "\n",
            "bestTest = 0.7373057286\n",
            "bestIteration = 254\n",
            "\n",
            "Shrink model to first 255 iterations.\n"
          ]
        },
        {
          "output_type": "execute_result",
          "data": {
            "text/plain": [
              "<catboost.core.CatBoostClassifier at 0x7f8824c1d2e0>"
            ]
          },
          "metadata": {},
          "execution_count": 24
        }
      ]
    },
    {
      "cell_type": "code",
      "source": [
        "df['target'].mean()"
      ],
      "metadata": {
        "colab": {
          "base_uri": "https://localhost:8080/"
        },
        "id": "6b5EWnLjF0wf",
        "outputId": "f38357bd-f57f-4d03-ad20-c13efe1b6c5c"
      },
      "execution_count": 25,
      "outputs": [
        {
          "output_type": "execute_result",
          "data": {
            "text/plain": [
              "0.26322233104799214"
            ]
          },
          "metadata": {},
          "execution_count": 25
        }
      ]
    },
    {
      "cell_type": "code",
      "source": [
        "model.feature_importances_"
      ],
      "metadata": {
        "colab": {
          "base_uri": "https://localhost:8080/"
        },
        "id": "g5y_3xZ8L78Y",
        "outputId": "54af8987-5fde-432f-ffb4-11641105891a"
      },
      "execution_count": 42,
      "outputs": [
        {
          "output_type": "execute_result",
          "data": {
            "text/plain": [
              "array([ 3.10356343,  0.        ,  0.13881276,  1.56778506,  2.96839169,\n",
              "        1.87666142,  1.3283412 ,  1.19504394, 10.80025232,  2.52668995,\n",
              "        2.26892069,  2.01253126,  2.09957908,  1.02097293,  2.46538565,\n",
              "        1.83179983,  1.13965008,  1.1188869 ,  0.46460922,  3.2951441 ,\n",
              "        2.70216613,  1.88517157,  1.6190395 ,  1.48734431,  1.30252298,\n",
              "        1.25428477,  0.38825616,  2.01268971,  1.9739088 ,  1.36498632,\n",
              "        2.24176946,  2.11704622,  1.17327402,  2.97356672,  1.71429383,\n",
              "        1.56071224,  2.26051682,  1.33364282,  1.74208497,  0.33413897,\n",
              "        0.39338795,  0.56855949,  1.44110191,  0.        ,  2.68658338,\n",
              "        0.32816802,  0.60357207,  0.95612201, 10.11619094,  3.877913  ,\n",
              "        1.36311789,  1.00084551])"
            ]
          },
          "metadata": {},
          "execution_count": 42
        }
      ]
    },
    {
      "cell_type": "code",
      "source": [
        "fi = pd.DataFrame({'name':X.columns, 'w':model.feature_importances_})"
      ],
      "metadata": {
        "id": "bVfjvCyGGv62"
      },
      "execution_count": 48,
      "outputs": []
    },
    {
      "cell_type": "code",
      "source": [],
      "metadata": {
        "id": "ezHcmdCcHCc-"
      },
      "execution_count": null,
      "outputs": []
    }
  ]
}