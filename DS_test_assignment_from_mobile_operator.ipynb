{
  "cells": [
    {
      "cell_type": "markdown",
      "metadata": {
        "id": "xfRO21lv5w77"
      },
      "source": [
        "# **DS** test assignment from mobile operator"
      ]
    },
    {
      "cell_type": "markdown",
      "metadata": {
        "id": "6ZqLZygA8EHC"
      },
      "source": [
        "Binary classification problem:\n",
        "\"1\" - the subscriber is a driver (belongs to the drivers segment),\n",
        "\"0\" - the subscriber is not a driver (does not belong to the drivers segment).\n",
        "\n",
        "The files tabular_data.csv and hashed_feature.csv ̶ here are descriptive characteristics for 4084 subscribers (\"ID\" is the subscriber ID).\n",
        "The train.csv file ̶ is the target label data (the subscriber's belonging to the driver segment).\n",
        "File test.csv ̶ is the list of subscribers for which we want to make a prediction, by which we will evaluate the quality of the model. The ROC-AUC is used as the metric.\n",
        "\n",
        "\"The file tabular_data.csv contains the numeric data on the activity of subscribers for 12 periods.\n",
        "- period - period number (periods are consecutive, 1 is the newest)\n",
        "- id - subscriber ID\n",
        "- feature_0 - feature_49 - data on the subscriber's activity in the corresponding period.\n",
        "\n",
        "\n",
        "\"File hashed_feature.csv - here is the set of hashed values of one categorical variable for the subscriber.\n",
        "- id - subscriber's identifier\n",
        "- feature_50 - hash of the value of the categorical variable.\n",
        "\n",
        "\n",
        "\"File train.csv - here is the data with the target label.\n",
        "- id - identifier of the target\n",
        "- target - target label value (1 - belongs to drivers segment, 0 - does not belong to drivers segment).\n",
        "\n",
        "\n",
        "\"test.csv file - list of subscribers for which you want to make predictions with your models.\n",
        "- id - the subscriber's identifier\n",
        "- score - the probability that the caller belongs to the drivers segment (class \"1\"). This probability is determined by your model.\n",
        "\n",
        "\n",
        "You need to build your model on the subscribers whose target label is contained in the train.csv file. \n",
        "To do this, you need to use data from tabular_data.csv and hashed_feature.csv files. \n",
        "Then, using your model, you need to fill in the score column for the subscribers from the test.csv file - the probability that the subscriber belongs to the driver segment. \n",
        "Note that you need to predict the fact of the relation to the drivers segment, without reference to the period.\n",
        "\n",
        "**P.S. The target in ROC-AUC is 90%+**"
      ]
    },
    {
      "cell_type": "code",
      "source": [
        "! pip3 install catboost"
      ],
      "metadata": {
        "colab": {
          "base_uri": "https://localhost:8080/"
        },
        "id": "es8sDQaW2Q6s",
        "outputId": "664f511c-1015-452b-9014-178d84c2c9ee"
      },
      "execution_count": null,
      "outputs": [
        {
          "output_type": "stream",
          "name": "stdout",
          "text": [
            "Looking in indexes: https://pypi.org/simple, https://us-python.pkg.dev/colab-wheels/public/simple/\n",
            "Collecting catboost\n",
            "  Downloading catboost-1.1.1-cp38-none-manylinux1_x86_64.whl (76.6 MB)\n",
            "\u001b[K     |█▎                              | 2.9 MB 6.7 MB/s eta 0:00:11"
          ]
        }
      ]
    },
    {
      "cell_type": "code",
      "execution_count": null,
      "metadata": {
        "id": "FKhGHxhEK6bV"
      },
      "outputs": [],
      "source": [
        "import pandas as pd\n",
        "import numpy as np\n",
        "import seaborn as sns\n",
        "from catboost import CatBoostClassifier\n",
        "import matplotlib.pylab as plt\n",
        "%matplotlib inline\n",
        "from sklearn.model_selection import train_test_split\n",
        "from sklearn.metrics import r2_score, roc_auc_score"
      ]
    },
    {
      "cell_type": "code",
      "execution_count": null,
      "metadata": {
        "id": "JESTWXiw759s"
      },
      "outputs": [],
      "source": [
        "tabular_data = pd.read_csv('tabular_data.csv')"
      ]
    },
    {
      "cell_type": "code",
      "execution_count": null,
      "metadata": {
        "id": "T1ivFFO48z8w"
      },
      "outputs": [],
      "source": [
        "train = pd.read_csv('train.csv')"
      ]
    },
    {
      "cell_type": "code",
      "execution_count": null,
      "metadata": {
        "id": "4bKO9rL29MNf"
      },
      "outputs": [],
      "source": [
        "test = pd.read_csv('test.csv')"
      ]
    },
    {
      "cell_type": "code",
      "execution_count": null,
      "metadata": {
        "id": "uZYzRMlD9NBX"
      },
      "outputs": [],
      "source": [
        "df = train.merge(tabular_data, how='left', on='id')"
      ]
    },
    {
      "cell_type": "code",
      "source": [
        "hashed_feature = pd.read_csv('hashed_feature.csv')\n",
        "hashed_feature.head()"
      ],
      "metadata": {
        "id": "y7kx1fp44pLT"
      },
      "execution_count": null,
      "outputs": []
    },
    {
      "cell_type": "code",
      "source": [
        "hashed_feature[\"feature_50\"].fillna( method ='ffill', inplace = True)\n",
        "feature_50 = hashed_feature.groupby(['id'], as_index=True).agg({'feature_50': ' '.join})\n",
        "feature_50['feature_50'].head()"
      ],
      "metadata": {
        "id": "-bIxZj_K4XhL"
      },
      "execution_count": null,
      "outputs": []
    },
    {
      "cell_type": "code",
      "source": [
        "df = df.merge(feature_50, how='left', on='id')"
      ],
      "metadata": {
        "id": "81KDHAUP7GjM"
      },
      "execution_count": null,
      "outputs": []
    },
    {
      "cell_type": "code",
      "source": [
        "df['feature_50']"
      ],
      "metadata": {
        "id": "ttSXgZoe8_kI"
      },
      "execution_count": null,
      "outputs": []
    },
    {
      "cell_type": "code",
      "source": [
        "df[\"feature_25\"].fillna( method ='ffill', inplace = True)"
      ],
      "metadata": {
        "id": "K98aFHwi9sFN"
      },
      "execution_count": null,
      "outputs": []
    },
    {
      "cell_type": "code",
      "execution_count": null,
      "metadata": {
        "id": "T1wGhCBBDO7T"
      },
      "outputs": [],
      "source": [
        "X = df.drop(columns=['target'], axis=0).copy()"
      ]
    },
    {
      "cell_type": "code",
      "execution_count": null,
      "metadata": {
        "id": "-tUIfTHJGI8C"
      },
      "outputs": [],
      "source": [
        "Y = df['target']"
      ]
    },
    {
      "cell_type": "code",
      "execution_count": null,
      "metadata": {
        "id": "P1craqkALxX0"
      },
      "outputs": [],
      "source": [
        "from sklearn.preprocessing import StandardScaler"
      ]
    },
    {
      "cell_type": "code",
      "execution_count": null,
      "metadata": {
        "id": "r47YOgZ-G9JS"
      },
      "outputs": [],
      "source": [
        "sns.catplot(\n",
        "    data=df, x=\"period\", y=\"feature_46\", hue=\"target\",\n",
        "    kind=\"violin\", split=True,\n",
        ")"
      ]
    },
    {
      "cell_type": "code",
      "source": [
        "X_train, X_test, y_train, y_test = train_test_split(X, Y, test_size=0.3, random_state=42)"
      ],
      "metadata": {
        "id": "mKaGTiKm1vNU"
      },
      "execution_count": null,
      "outputs": []
    },
    {
      "cell_type": "code",
      "source": [
        "text_feature = ['feature_50']\n",
        "cat_feature = ['feature_25']"
      ],
      "metadata": {
        "id": "sGz9i2p08tal"
      },
      "execution_count": null,
      "outputs": []
    },
    {
      "cell_type": "code",
      "source": [],
      "metadata": {
        "id": "R87bq1Es9lxO"
      },
      "execution_count": null,
      "outputs": []
    },
    {
      "cell_type": "code",
      "source": [
        "model = CatBoostClassifier(verbose=100, eval_metric='AUC', text_features=text_feature, cat_features=cat_feature)"
      ],
      "metadata": {
        "id": "gBtzjUZQ2e78"
      },
      "execution_count": null,
      "outputs": []
    },
    {
      "cell_type": "code",
      "source": [
        "model.fit(X_train, y_train, eval_set=(X_test, y_test))"
      ],
      "metadata": {
        "id": "80w1qCfC2iaN"
      },
      "execution_count": null,
      "outputs": []
    },
    {
      "cell_type": "code",
      "source": [],
      "metadata": {
        "id": "Nv3doM1j_2sS"
      },
      "execution_count": null,
      "outputs": []
    }
  ],
  "metadata": {
    "colab": {
      "provenance": [],
      "authorship_tag": "ABX9TyN5e8EyTTi6UOFfgoZOs1bx"
    },
    "kernelspec": {
      "display_name": "Python 3",
      "name": "python3"
    },
    "language_info": {
      "name": "python"
    }
  },
  "nbformat": 4,
  "nbformat_minor": 0
}