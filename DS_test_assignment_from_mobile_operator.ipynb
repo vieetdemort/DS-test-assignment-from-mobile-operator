{
  "cells": [
    {
      "cell_type": "markdown",
      "metadata": {
        "id": "xfRO21lv5w77"
      },
      "source": [
        "# **DS** test assignment from mobile operator"
      ]
    },
    {
      "cell_type": "markdown",
      "metadata": {
        "id": "6ZqLZygA8EHC"
      },
      "source": [
        "Binary classification problem:\n",
        "\"1\" - the subscriber is a driver (belongs to the drivers segment),\n",
        "\"0\" - the subscriber is not a driver (does not belong to the drivers segment).\n",
        "\n",
        "The files tabular_data.csv and hashed_feature.csv ̶ here are descriptive characteristics for 4084 subscribers (\"ID\" is the subscriber ID).\n",
        "The train.csv file ̶ is the target label data (the subscriber's belonging to the driver segment).\n",
        "File test.csv ̶ is the list of subscribers for which we want to make a prediction, by which we will evaluate the quality of the model. The ROC-AUC is used as the metric.\n",
        "\n",
        "\"The file tabular_data.csv contains the numeric data on the activity of subscribers for 12 periods.\n",
        "- period - period number (periods are consecutive, 1 is the newest)\n",
        "- id - subscriber ID\n",
        "- feature_0 - feature_49 - data on the subscriber's activity in the corresponding period.\n",
        "\n",
        "\n",
        "\"File hashed_feature.csv - here is the set of hashed values of one categorical variable for the subscriber.\n",
        "- id - subscriber's identifier\n",
        "- feature_50 - hash of the value of the categorical variable.\n",
        "\n",
        "\n",
        "\"File train.csv - here is the data with the target label.\n",
        "- id - identifier of the target\n",
        "- target - target label value (1 - belongs to drivers segment, 0 - does not belong to drivers segment).\n",
        "\n",
        "\n",
        "\"test.csv file - list of subscribers for which you want to make predictions with your models.\n",
        "- id - the subscriber's identifier\n",
        "- score - the probability that the caller belongs to the drivers segment (class \"1\"). This probability is determined by your model.\n",
        "\n",
        "\n",
        "You need to build your model on the subscribers whose target label is contained in the train.csv file. \n",
        "To do this, you need to use data from tabular_data.csv and hashed_feature.csv files. \n",
        "Then, using your model, you need to fill in the score column for the subscribers from the test.csv file - the probability that the subscriber belongs to the driver segment. \n",
        "Note that you need to predict the fact of the relation to the drivers segment, without reference to the period.\n",
        "\n",
        "**P.S. The target in ROC-AUC is 90%+**"
      ]
    },
    {
      "cell_type": "code",
      "source": [
        "! pip3 install catboost"
      ],
      "metadata": {
        "colab": {
          "base_uri": "https://localhost:8080/"
        },
        "id": "es8sDQaW2Q6s",
        "outputId": "da4900dc-1066-414c-90bc-b1bfbce6751f"
      },
      "execution_count": 85,
      "outputs": [
        {
          "output_type": "stream",
          "name": "stdout",
          "text": [
            "Looking in indexes: https://pypi.org/simple, https://us-python.pkg.dev/colab-wheels/public/simple/\n",
            "Requirement already satisfied: catboost in /usr/local/lib/python3.8/dist-packages (1.1.1)\n",
            "Requirement already satisfied: plotly in /usr/local/lib/python3.8/dist-packages (from catboost) (5.5.0)\n",
            "Requirement already satisfied: numpy>=1.16.0 in /usr/local/lib/python3.8/dist-packages (from catboost) (1.21.6)\n",
            "Requirement already satisfied: six in /usr/local/lib/python3.8/dist-packages (from catboost) (1.15.0)\n",
            "Requirement already satisfied: scipy in /usr/local/lib/python3.8/dist-packages (from catboost) (1.7.3)\n",
            "Requirement already satisfied: graphviz in /usr/local/lib/python3.8/dist-packages (from catboost) (0.10.1)\n",
            "Requirement already satisfied: matplotlib in /usr/local/lib/python3.8/dist-packages (from catboost) (3.2.2)\n",
            "Requirement already satisfied: pandas>=0.24.0 in /usr/local/lib/python3.8/dist-packages (from catboost) (1.3.5)\n",
            "Requirement already satisfied: pytz>=2017.3 in /usr/local/lib/python3.8/dist-packages (from pandas>=0.24.0->catboost) (2022.6)\n",
            "Requirement already satisfied: python-dateutil>=2.7.3 in /usr/local/lib/python3.8/dist-packages (from pandas>=0.24.0->catboost) (2.8.2)\n",
            "Requirement already satisfied: cycler>=0.10 in /usr/local/lib/python3.8/dist-packages (from matplotlib->catboost) (0.11.0)\n",
            "Requirement already satisfied: kiwisolver>=1.0.1 in /usr/local/lib/python3.8/dist-packages (from matplotlib->catboost) (1.4.4)\n",
            "Requirement already satisfied: pyparsing!=2.0.4,!=2.1.2,!=2.1.6,>=2.0.1 in /usr/local/lib/python3.8/dist-packages (from matplotlib->catboost) (3.0.9)\n",
            "Requirement already satisfied: tenacity>=6.2.0 in /usr/local/lib/python3.8/dist-packages (from plotly->catboost) (8.1.0)\n"
          ]
        }
      ]
    },
    {
      "cell_type": "code",
      "execution_count": 86,
      "metadata": {
        "id": "FKhGHxhEK6bV"
      },
      "outputs": [],
      "source": [
        "import pandas as pd\n",
        "import numpy as np\n",
        "import seaborn as sns\n",
        "from catboost import CatBoostClassifier\n",
        "import matplotlib.pylab as plt\n",
        "%matplotlib inline\n",
        "from sklearn.model_selection import train_test_split\n",
        "from sklearn.metrics import r2_score, roc_auc_score"
      ]
    },
    {
      "cell_type": "code",
      "execution_count": 87,
      "metadata": {
        "id": "JESTWXiw759s"
      },
      "outputs": [],
      "source": [
        "tabular_data = pd.read_csv('tabular_data.csv')"
      ]
    },
    {
      "cell_type": "code",
      "execution_count": 88,
      "metadata": {
        "id": "T1ivFFO48z8w"
      },
      "outputs": [],
      "source": [
        "train = pd.read_csv('train.csv')"
      ]
    },
    {
      "cell_type": "code",
      "execution_count": 89,
      "metadata": {
        "id": "4bKO9rL29MNf"
      },
      "outputs": [],
      "source": [
        "test = pd.read_csv('test.csv')"
      ]
    },
    {
      "cell_type": "code",
      "execution_count": 90,
      "metadata": {
        "id": "uZYzRMlD9NBX"
      },
      "outputs": [],
      "source": [
        "df = train.merge(tabular_data, on='id').reset_index()"
      ]
    },
    {
      "cell_type": "code",
      "source": [
        "hashed_feature = pd.read_csv('hashed_feature.csv')\n",
        "hashed_feature.head()"
      ],
      "metadata": {
        "colab": {
          "base_uri": "https://localhost:8080/",
          "height": 206
        },
        "id": "y7kx1fp44pLT",
        "outputId": "7d68231e-e4d6-4b55-a3f0-374c9bbb21bc"
      },
      "execution_count": 91,
      "outputs": [
        {
          "output_type": "execute_result",
          "data": {
            "text/plain": [
              "   id                                feature_50\n",
              "0   0  7984b0a0e139cabadb5afc7756d473fb34d23819\n",
              "1   0  47904b3331202e9881d003ff449c2eabfbc75460\n",
              "2   0  a99c4b3af723874ddd85af322beea81b64437294\n",
              "3   0  4dce5381031a88aed6b12ef71b6f7c3148e7b3c8\n",
              "4   0  d62db721202cb6636887f450a7b77fa97db03b05"
            ],
            "text/html": [
              "\n",
              "  <div id=\"df-3590801c-011e-42a3-92ae-022758ae5c46\">\n",
              "    <div class=\"colab-df-container\">\n",
              "      <div>\n",
              "<style scoped>\n",
              "    .dataframe tbody tr th:only-of-type {\n",
              "        vertical-align: middle;\n",
              "    }\n",
              "\n",
              "    .dataframe tbody tr th {\n",
              "        vertical-align: top;\n",
              "    }\n",
              "\n",
              "    .dataframe thead th {\n",
              "        text-align: right;\n",
              "    }\n",
              "</style>\n",
              "<table border=\"1\" class=\"dataframe\">\n",
              "  <thead>\n",
              "    <tr style=\"text-align: right;\">\n",
              "      <th></th>\n",
              "      <th>id</th>\n",
              "      <th>feature_50</th>\n",
              "    </tr>\n",
              "  </thead>\n",
              "  <tbody>\n",
              "    <tr>\n",
              "      <th>0</th>\n",
              "      <td>0</td>\n",
              "      <td>7984b0a0e139cabadb5afc7756d473fb34d23819</td>\n",
              "    </tr>\n",
              "    <tr>\n",
              "      <th>1</th>\n",
              "      <td>0</td>\n",
              "      <td>47904b3331202e9881d003ff449c2eabfbc75460</td>\n",
              "    </tr>\n",
              "    <tr>\n",
              "      <th>2</th>\n",
              "      <td>0</td>\n",
              "      <td>a99c4b3af723874ddd85af322beea81b64437294</td>\n",
              "    </tr>\n",
              "    <tr>\n",
              "      <th>3</th>\n",
              "      <td>0</td>\n",
              "      <td>4dce5381031a88aed6b12ef71b6f7c3148e7b3c8</td>\n",
              "    </tr>\n",
              "    <tr>\n",
              "      <th>4</th>\n",
              "      <td>0</td>\n",
              "      <td>d62db721202cb6636887f450a7b77fa97db03b05</td>\n",
              "    </tr>\n",
              "  </tbody>\n",
              "</table>\n",
              "</div>\n",
              "      <button class=\"colab-df-convert\" onclick=\"convertToInteractive('df-3590801c-011e-42a3-92ae-022758ae5c46')\"\n",
              "              title=\"Convert this dataframe to an interactive table.\"\n",
              "              style=\"display:none;\">\n",
              "        \n",
              "  <svg xmlns=\"http://www.w3.org/2000/svg\" height=\"24px\"viewBox=\"0 0 24 24\"\n",
              "       width=\"24px\">\n",
              "    <path d=\"M0 0h24v24H0V0z\" fill=\"none\"/>\n",
              "    <path d=\"M18.56 5.44l.94 2.06.94-2.06 2.06-.94-2.06-.94-.94-2.06-.94 2.06-2.06.94zm-11 1L8.5 8.5l.94-2.06 2.06-.94-2.06-.94L8.5 2.5l-.94 2.06-2.06.94zm10 10l.94 2.06.94-2.06 2.06-.94-2.06-.94-.94-2.06-.94 2.06-2.06.94z\"/><path d=\"M17.41 7.96l-1.37-1.37c-.4-.4-.92-.59-1.43-.59-.52 0-1.04.2-1.43.59L10.3 9.45l-7.72 7.72c-.78.78-.78 2.05 0 2.83L4 21.41c.39.39.9.59 1.41.59.51 0 1.02-.2 1.41-.59l7.78-7.78 2.81-2.81c.8-.78.8-2.07 0-2.86zM5.41 20L4 18.59l7.72-7.72 1.47 1.35L5.41 20z\"/>\n",
              "  </svg>\n",
              "      </button>\n",
              "      \n",
              "  <style>\n",
              "    .colab-df-container {\n",
              "      display:flex;\n",
              "      flex-wrap:wrap;\n",
              "      gap: 12px;\n",
              "    }\n",
              "\n",
              "    .colab-df-convert {\n",
              "      background-color: #E8F0FE;\n",
              "      border: none;\n",
              "      border-radius: 50%;\n",
              "      cursor: pointer;\n",
              "      display: none;\n",
              "      fill: #1967D2;\n",
              "      height: 32px;\n",
              "      padding: 0 0 0 0;\n",
              "      width: 32px;\n",
              "    }\n",
              "\n",
              "    .colab-df-convert:hover {\n",
              "      background-color: #E2EBFA;\n",
              "      box-shadow: 0px 1px 2px rgba(60, 64, 67, 0.3), 0px 1px 3px 1px rgba(60, 64, 67, 0.15);\n",
              "      fill: #174EA6;\n",
              "    }\n",
              "\n",
              "    [theme=dark] .colab-df-convert {\n",
              "      background-color: #3B4455;\n",
              "      fill: #D2E3FC;\n",
              "    }\n",
              "\n",
              "    [theme=dark] .colab-df-convert:hover {\n",
              "      background-color: #434B5C;\n",
              "      box-shadow: 0px 1px 3px 1px rgba(0, 0, 0, 0.15);\n",
              "      filter: drop-shadow(0px 1px 2px rgba(0, 0, 0, 0.3));\n",
              "      fill: #FFFFFF;\n",
              "    }\n",
              "  </style>\n",
              "\n",
              "      <script>\n",
              "        const buttonEl =\n",
              "          document.querySelector('#df-3590801c-011e-42a3-92ae-022758ae5c46 button.colab-df-convert');\n",
              "        buttonEl.style.display =\n",
              "          google.colab.kernel.accessAllowed ? 'block' : 'none';\n",
              "\n",
              "        async function convertToInteractive(key) {\n",
              "          const element = document.querySelector('#df-3590801c-011e-42a3-92ae-022758ae5c46');\n",
              "          const dataTable =\n",
              "            await google.colab.kernel.invokeFunction('convertToInteractive',\n",
              "                                                     [key], {});\n",
              "          if (!dataTable) return;\n",
              "\n",
              "          const docLinkHtml = 'Like what you see? Visit the ' +\n",
              "            '<a target=\"_blank\" href=https://colab.research.google.com/notebooks/data_table.ipynb>data table notebook</a>'\n",
              "            + ' to learn more about interactive tables.';\n",
              "          element.innerHTML = '';\n",
              "          dataTable['output_type'] = 'display_data';\n",
              "          await google.colab.output.renderOutput(dataTable, element);\n",
              "          const docLink = document.createElement('div');\n",
              "          docLink.innerHTML = docLinkHtml;\n",
              "          element.appendChild(docLink);\n",
              "        }\n",
              "      </script>\n",
              "    </div>\n",
              "  </div>\n",
              "  "
            ]
          },
          "metadata": {},
          "execution_count": 91
        }
      ]
    },
    {
      "cell_type": "code",
      "source": [
        "hashed_feature[\"feature_50\"].fillna( method ='ffill', inplace = True)\n",
        "feature_50 = hashed_feature.groupby(['id'], as_index=True).agg({'feature_50': ' '.join})\n",
        "feature_50['feature_50'].head()"
      ],
      "metadata": {
        "colab": {
          "base_uri": "https://localhost:8080/"
        },
        "id": "-bIxZj_K4XhL",
        "outputId": "892fb36d-6230-4f41-8cf7-cb29afde6ab3"
      },
      "execution_count": 92,
      "outputs": [
        {
          "output_type": "execute_result",
          "data": {
            "text/plain": [
              "id\n",
              "0    7984b0a0e139cabadb5afc7756d473fb34d23819 47904...\n",
              "1    b9bd0ce1fa4ae3e15721b59467b686db6fdf99ed a013c...\n",
              "2    f037f1a9708bb2438a38d58fb441ac4008b0e831 f037f...\n",
              "3    3d11305bc7de6663644acf3066ecca90f2e5acb8 10a66...\n",
              "4    db6e2207646e991c7c196063bdc9377fb416c732 745dd...\n",
              "Name: feature_50, dtype: object"
            ]
          },
          "metadata": {},
          "execution_count": 92
        }
      ]
    },
    {
      "cell_type": "code",
      "source": [
        "df = df.merge(feature_50, how='left', on='id')"
      ],
      "metadata": {
        "id": "81KDHAUP7GjM"
      },
      "execution_count": 93,
      "outputs": []
    },
    {
      "cell_type": "code",
      "source": [
        "df"
      ],
      "metadata": {
        "colab": {
          "base_uri": "https://localhost:8080/",
          "height": 661
        },
        "id": "hqQqGH7U9x7N",
        "outputId": "0ae37059-d26b-4467-86ab-c9a4cbf0779a"
      },
      "execution_count": 94,
      "outputs": [
        {
          "output_type": "execute_result",
          "data": {
            "text/plain": [
              "       index    id  target  period  feature_0  feature_1  feature_2  \\\n",
              "0          0     0       0       1      110.0      55.00   0.432017   \n",
              "1          1     0       0       2      110.0     110.00   0.397517   \n",
              "2          2     0       0       3      110.0      55.00   0.359440   \n",
              "3          3     0       0       4      110.0      55.00   0.285707   \n",
              "4          4     0       0       5      110.0      55.00   0.101487   \n",
              "...      ...   ...     ...     ...        ...        ...        ...   \n",
              "49003  49003  4083       0       8      110.0     326.97   0.075341   \n",
              "49004  49004  4083       0       9      110.0     158.04   0.177228   \n",
              "49005  49005  4083       0      10      110.0      31.76   0.108558   \n",
              "49006  49006  4083       0      11      110.0     319.11   0.111005   \n",
              "49007  49007  4083       0      12      110.0     226.26   0.088340   \n",
              "\n",
              "          feature_3  feature_4     feature_5  ...  feature_41  feature_42  \\\n",
              "0          0.000000     176.78      0.000000  ...           0    0.000000   \n",
              "1          0.000000     315.42      0.000000  ...           0    0.000000   \n",
              "2          0.000000     354.55      0.000000  ...           0    0.000000   \n",
              "3          0.000000     229.98      0.000000  ...           0    0.000000   \n",
              "4        444.730391     307.12      0.000000  ...           0   20.014485   \n",
              "...             ...        ...           ...  ...         ...         ...   \n",
              "49003  51748.802468     183.98  51853.985279  ...           0   10.277948   \n",
              "49004  55868.890064      67.27  55621.921670  ...           0   55.430980   \n",
              "49005  61571.657643      65.63  61210.237966  ...           0   13.208262   \n",
              "49006  44667.081471     160.37  44061.415943  ...           0    6.807361   \n",
              "49007  51574.418521     265.88  50704.472787  ...           0   72.662712   \n",
              "\n",
              "       feature_43  feature_44  feature_45  feature_46  feature_47  feature_48  \\\n",
              "0             0.0       55.00         2.0    0.526552       145.0      133.28   \n",
              "1             0.0      110.00         1.0    0.481063       130.0      229.97   \n",
              "2             0.0       55.00         1.0    0.509598       180.0      231.78   \n",
              "3             0.0       55.00         0.0    0.680089       142.0      183.83   \n",
              "4             0.0       55.00         0.0    0.776175        85.0      155.83   \n",
              "...           ...         ...         ...         ...         ...         ...   \n",
              "49003         1.0      316.17         7.0    0.836954       107.0      149.05   \n",
              "49004         0.0      157.72        23.0   -0.845186        93.0       47.87   \n",
              "49005         1.0       19.80         4.0    0.627217        71.0       60.85   \n",
              "49006         0.0      317.19         1.0    0.678899       122.0      129.02   \n",
              "49007         1.0      201.16        12.0         NaN       215.0      110.17   \n",
              "\n",
              "       feature_49                                         feature_50  \n",
              "0             0.0  7984b0a0e139cabadb5afc7756d473fb34d23819 47904...  \n",
              "1             0.0  7984b0a0e139cabadb5afc7756d473fb34d23819 47904...  \n",
              "2             0.0  7984b0a0e139cabadb5afc7756d473fb34d23819 47904...  \n",
              "3             0.0  7984b0a0e139cabadb5afc7756d473fb34d23819 47904...  \n",
              "4             0.0  7984b0a0e139cabadb5afc7756d473fb34d23819 47904...  \n",
              "...           ...                                                ...  \n",
              "49003         8.0  59b7b0f7a586908eec25f56656202691329b5cd8 8ff89...  \n",
              "49004         9.0  59b7b0f7a586908eec25f56656202691329b5cd8 8ff89...  \n",
              "49005         2.0  59b7b0f7a586908eec25f56656202691329b5cd8 8ff89...  \n",
              "49006         0.0  59b7b0f7a586908eec25f56656202691329b5cd8 8ff89...  \n",
              "49007        22.0  59b7b0f7a586908eec25f56656202691329b5cd8 8ff89...  \n",
              "\n",
              "[49008 rows x 55 columns]"
            ],
            "text/html": [
              "\n",
              "  <div id=\"df-2eb1a872-db67-4764-b9fc-68c36a373a65\">\n",
              "    <div class=\"colab-df-container\">\n",
              "      <div>\n",
              "<style scoped>\n",
              "    .dataframe tbody tr th:only-of-type {\n",
              "        vertical-align: middle;\n",
              "    }\n",
              "\n",
              "    .dataframe tbody tr th {\n",
              "        vertical-align: top;\n",
              "    }\n",
              "\n",
              "    .dataframe thead th {\n",
              "        text-align: right;\n",
              "    }\n",
              "</style>\n",
              "<table border=\"1\" class=\"dataframe\">\n",
              "  <thead>\n",
              "    <tr style=\"text-align: right;\">\n",
              "      <th></th>\n",
              "      <th>index</th>\n",
              "      <th>id</th>\n",
              "      <th>target</th>\n",
              "      <th>period</th>\n",
              "      <th>feature_0</th>\n",
              "      <th>feature_1</th>\n",
              "      <th>feature_2</th>\n",
              "      <th>feature_3</th>\n",
              "      <th>feature_4</th>\n",
              "      <th>feature_5</th>\n",
              "      <th>...</th>\n",
              "      <th>feature_41</th>\n",
              "      <th>feature_42</th>\n",
              "      <th>feature_43</th>\n",
              "      <th>feature_44</th>\n",
              "      <th>feature_45</th>\n",
              "      <th>feature_46</th>\n",
              "      <th>feature_47</th>\n",
              "      <th>feature_48</th>\n",
              "      <th>feature_49</th>\n",
              "      <th>feature_50</th>\n",
              "    </tr>\n",
              "  </thead>\n",
              "  <tbody>\n",
              "    <tr>\n",
              "      <th>0</th>\n",
              "      <td>0</td>\n",
              "      <td>0</td>\n",
              "      <td>0</td>\n",
              "      <td>1</td>\n",
              "      <td>110.0</td>\n",
              "      <td>55.00</td>\n",
              "      <td>0.432017</td>\n",
              "      <td>0.000000</td>\n",
              "      <td>176.78</td>\n",
              "      <td>0.000000</td>\n",
              "      <td>...</td>\n",
              "      <td>0</td>\n",
              "      <td>0.000000</td>\n",
              "      <td>0.0</td>\n",
              "      <td>55.00</td>\n",
              "      <td>2.0</td>\n",
              "      <td>0.526552</td>\n",
              "      <td>145.0</td>\n",
              "      <td>133.28</td>\n",
              "      <td>0.0</td>\n",
              "      <td>7984b0a0e139cabadb5afc7756d473fb34d23819 47904...</td>\n",
              "    </tr>\n",
              "    <tr>\n",
              "      <th>1</th>\n",
              "      <td>1</td>\n",
              "      <td>0</td>\n",
              "      <td>0</td>\n",
              "      <td>2</td>\n",
              "      <td>110.0</td>\n",
              "      <td>110.00</td>\n",
              "      <td>0.397517</td>\n",
              "      <td>0.000000</td>\n",
              "      <td>315.42</td>\n",
              "      <td>0.000000</td>\n",
              "      <td>...</td>\n",
              "      <td>0</td>\n",
              "      <td>0.000000</td>\n",
              "      <td>0.0</td>\n",
              "      <td>110.00</td>\n",
              "      <td>1.0</td>\n",
              "      <td>0.481063</td>\n",
              "      <td>130.0</td>\n",
              "      <td>229.97</td>\n",
              "      <td>0.0</td>\n",
              "      <td>7984b0a0e139cabadb5afc7756d473fb34d23819 47904...</td>\n",
              "    </tr>\n",
              "    <tr>\n",
              "      <th>2</th>\n",
              "      <td>2</td>\n",
              "      <td>0</td>\n",
              "      <td>0</td>\n",
              "      <td>3</td>\n",
              "      <td>110.0</td>\n",
              "      <td>55.00</td>\n",
              "      <td>0.359440</td>\n",
              "      <td>0.000000</td>\n",
              "      <td>354.55</td>\n",
              "      <td>0.000000</td>\n",
              "      <td>...</td>\n",
              "      <td>0</td>\n",
              "      <td>0.000000</td>\n",
              "      <td>0.0</td>\n",
              "      <td>55.00</td>\n",
              "      <td>1.0</td>\n",
              "      <td>0.509598</td>\n",
              "      <td>180.0</td>\n",
              "      <td>231.78</td>\n",
              "      <td>0.0</td>\n",
              "      <td>7984b0a0e139cabadb5afc7756d473fb34d23819 47904...</td>\n",
              "    </tr>\n",
              "    <tr>\n",
              "      <th>3</th>\n",
              "      <td>3</td>\n",
              "      <td>0</td>\n",
              "      <td>0</td>\n",
              "      <td>4</td>\n",
              "      <td>110.0</td>\n",
              "      <td>55.00</td>\n",
              "      <td>0.285707</td>\n",
              "      <td>0.000000</td>\n",
              "      <td>229.98</td>\n",
              "      <td>0.000000</td>\n",
              "      <td>...</td>\n",
              "      <td>0</td>\n",
              "      <td>0.000000</td>\n",
              "      <td>0.0</td>\n",
              "      <td>55.00</td>\n",
              "      <td>0.0</td>\n",
              "      <td>0.680089</td>\n",
              "      <td>142.0</td>\n",
              "      <td>183.83</td>\n",
              "      <td>0.0</td>\n",
              "      <td>7984b0a0e139cabadb5afc7756d473fb34d23819 47904...</td>\n",
              "    </tr>\n",
              "    <tr>\n",
              "      <th>4</th>\n",
              "      <td>4</td>\n",
              "      <td>0</td>\n",
              "      <td>0</td>\n",
              "      <td>5</td>\n",
              "      <td>110.0</td>\n",
              "      <td>55.00</td>\n",
              "      <td>0.101487</td>\n",
              "      <td>444.730391</td>\n",
              "      <td>307.12</td>\n",
              "      <td>0.000000</td>\n",
              "      <td>...</td>\n",
              "      <td>0</td>\n",
              "      <td>20.014485</td>\n",
              "      <td>0.0</td>\n",
              "      <td>55.00</td>\n",
              "      <td>0.0</td>\n",
              "      <td>0.776175</td>\n",
              "      <td>85.0</td>\n",
              "      <td>155.83</td>\n",
              "      <td>0.0</td>\n",
              "      <td>7984b0a0e139cabadb5afc7756d473fb34d23819 47904...</td>\n",
              "    </tr>\n",
              "    <tr>\n",
              "      <th>...</th>\n",
              "      <td>...</td>\n",
              "      <td>...</td>\n",
              "      <td>...</td>\n",
              "      <td>...</td>\n",
              "      <td>...</td>\n",
              "      <td>...</td>\n",
              "      <td>...</td>\n",
              "      <td>...</td>\n",
              "      <td>...</td>\n",
              "      <td>...</td>\n",
              "      <td>...</td>\n",
              "      <td>...</td>\n",
              "      <td>...</td>\n",
              "      <td>...</td>\n",
              "      <td>...</td>\n",
              "      <td>...</td>\n",
              "      <td>...</td>\n",
              "      <td>...</td>\n",
              "      <td>...</td>\n",
              "      <td>...</td>\n",
              "      <td>...</td>\n",
              "    </tr>\n",
              "    <tr>\n",
              "      <th>49003</th>\n",
              "      <td>49003</td>\n",
              "      <td>4083</td>\n",
              "      <td>0</td>\n",
              "      <td>8</td>\n",
              "      <td>110.0</td>\n",
              "      <td>326.97</td>\n",
              "      <td>0.075341</td>\n",
              "      <td>51748.802468</td>\n",
              "      <td>183.98</td>\n",
              "      <td>51853.985279</td>\n",
              "      <td>...</td>\n",
              "      <td>0</td>\n",
              "      <td>10.277948</td>\n",
              "      <td>1.0</td>\n",
              "      <td>316.17</td>\n",
              "      <td>7.0</td>\n",
              "      <td>0.836954</td>\n",
              "      <td>107.0</td>\n",
              "      <td>149.05</td>\n",
              "      <td>8.0</td>\n",
              "      <td>59b7b0f7a586908eec25f56656202691329b5cd8 8ff89...</td>\n",
              "    </tr>\n",
              "    <tr>\n",
              "      <th>49004</th>\n",
              "      <td>49004</td>\n",
              "      <td>4083</td>\n",
              "      <td>0</td>\n",
              "      <td>9</td>\n",
              "      <td>110.0</td>\n",
              "      <td>158.04</td>\n",
              "      <td>0.177228</td>\n",
              "      <td>55868.890064</td>\n",
              "      <td>67.27</td>\n",
              "      <td>55621.921670</td>\n",
              "      <td>...</td>\n",
              "      <td>0</td>\n",
              "      <td>55.430980</td>\n",
              "      <td>0.0</td>\n",
              "      <td>157.72</td>\n",
              "      <td>23.0</td>\n",
              "      <td>-0.845186</td>\n",
              "      <td>93.0</td>\n",
              "      <td>47.87</td>\n",
              "      <td>9.0</td>\n",
              "      <td>59b7b0f7a586908eec25f56656202691329b5cd8 8ff89...</td>\n",
              "    </tr>\n",
              "    <tr>\n",
              "      <th>49005</th>\n",
              "      <td>49005</td>\n",
              "      <td>4083</td>\n",
              "      <td>0</td>\n",
              "      <td>10</td>\n",
              "      <td>110.0</td>\n",
              "      <td>31.76</td>\n",
              "      <td>0.108558</td>\n",
              "      <td>61571.657643</td>\n",
              "      <td>65.63</td>\n",
              "      <td>61210.237966</td>\n",
              "      <td>...</td>\n",
              "      <td>0</td>\n",
              "      <td>13.208262</td>\n",
              "      <td>1.0</td>\n",
              "      <td>19.80</td>\n",
              "      <td>4.0</td>\n",
              "      <td>0.627217</td>\n",
              "      <td>71.0</td>\n",
              "      <td>60.85</td>\n",
              "      <td>2.0</td>\n",
              "      <td>59b7b0f7a586908eec25f56656202691329b5cd8 8ff89...</td>\n",
              "    </tr>\n",
              "    <tr>\n",
              "      <th>49006</th>\n",
              "      <td>49006</td>\n",
              "      <td>4083</td>\n",
              "      <td>0</td>\n",
              "      <td>11</td>\n",
              "      <td>110.0</td>\n",
              "      <td>319.11</td>\n",
              "      <td>0.111005</td>\n",
              "      <td>44667.081471</td>\n",
              "      <td>160.37</td>\n",
              "      <td>44061.415943</td>\n",
              "      <td>...</td>\n",
              "      <td>0</td>\n",
              "      <td>6.807361</td>\n",
              "      <td>0.0</td>\n",
              "      <td>317.19</td>\n",
              "      <td>1.0</td>\n",
              "      <td>0.678899</td>\n",
              "      <td>122.0</td>\n",
              "      <td>129.02</td>\n",
              "      <td>0.0</td>\n",
              "      <td>59b7b0f7a586908eec25f56656202691329b5cd8 8ff89...</td>\n",
              "    </tr>\n",
              "    <tr>\n",
              "      <th>49007</th>\n",
              "      <td>49007</td>\n",
              "      <td>4083</td>\n",
              "      <td>0</td>\n",
              "      <td>12</td>\n",
              "      <td>110.0</td>\n",
              "      <td>226.26</td>\n",
              "      <td>0.088340</td>\n",
              "      <td>51574.418521</td>\n",
              "      <td>265.88</td>\n",
              "      <td>50704.472787</td>\n",
              "      <td>...</td>\n",
              "      <td>0</td>\n",
              "      <td>72.662712</td>\n",
              "      <td>1.0</td>\n",
              "      <td>201.16</td>\n",
              "      <td>12.0</td>\n",
              "      <td>NaN</td>\n",
              "      <td>215.0</td>\n",
              "      <td>110.17</td>\n",
              "      <td>22.0</td>\n",
              "      <td>59b7b0f7a586908eec25f56656202691329b5cd8 8ff89...</td>\n",
              "    </tr>\n",
              "  </tbody>\n",
              "</table>\n",
              "<p>49008 rows × 55 columns</p>\n",
              "</div>\n",
              "      <button class=\"colab-df-convert\" onclick=\"convertToInteractive('df-2eb1a872-db67-4764-b9fc-68c36a373a65')\"\n",
              "              title=\"Convert this dataframe to an interactive table.\"\n",
              "              style=\"display:none;\">\n",
              "        \n",
              "  <svg xmlns=\"http://www.w3.org/2000/svg\" height=\"24px\"viewBox=\"0 0 24 24\"\n",
              "       width=\"24px\">\n",
              "    <path d=\"M0 0h24v24H0V0z\" fill=\"none\"/>\n",
              "    <path d=\"M18.56 5.44l.94 2.06.94-2.06 2.06-.94-2.06-.94-.94-2.06-.94 2.06-2.06.94zm-11 1L8.5 8.5l.94-2.06 2.06-.94-2.06-.94L8.5 2.5l-.94 2.06-2.06.94zm10 10l.94 2.06.94-2.06 2.06-.94-2.06-.94-.94-2.06-.94 2.06-2.06.94z\"/><path d=\"M17.41 7.96l-1.37-1.37c-.4-.4-.92-.59-1.43-.59-.52 0-1.04.2-1.43.59L10.3 9.45l-7.72 7.72c-.78.78-.78 2.05 0 2.83L4 21.41c.39.39.9.59 1.41.59.51 0 1.02-.2 1.41-.59l7.78-7.78 2.81-2.81c.8-.78.8-2.07 0-2.86zM5.41 20L4 18.59l7.72-7.72 1.47 1.35L5.41 20z\"/>\n",
              "  </svg>\n",
              "      </button>\n",
              "      \n",
              "  <style>\n",
              "    .colab-df-container {\n",
              "      display:flex;\n",
              "      flex-wrap:wrap;\n",
              "      gap: 12px;\n",
              "    }\n",
              "\n",
              "    .colab-df-convert {\n",
              "      background-color: #E8F0FE;\n",
              "      border: none;\n",
              "      border-radius: 50%;\n",
              "      cursor: pointer;\n",
              "      display: none;\n",
              "      fill: #1967D2;\n",
              "      height: 32px;\n",
              "      padding: 0 0 0 0;\n",
              "      width: 32px;\n",
              "    }\n",
              "\n",
              "    .colab-df-convert:hover {\n",
              "      background-color: #E2EBFA;\n",
              "      box-shadow: 0px 1px 2px rgba(60, 64, 67, 0.3), 0px 1px 3px 1px rgba(60, 64, 67, 0.15);\n",
              "      fill: #174EA6;\n",
              "    }\n",
              "\n",
              "    [theme=dark] .colab-df-convert {\n",
              "      background-color: #3B4455;\n",
              "      fill: #D2E3FC;\n",
              "    }\n",
              "\n",
              "    [theme=dark] .colab-df-convert:hover {\n",
              "      background-color: #434B5C;\n",
              "      box-shadow: 0px 1px 3px 1px rgba(0, 0, 0, 0.15);\n",
              "      filter: drop-shadow(0px 1px 2px rgba(0, 0, 0, 0.3));\n",
              "      fill: #FFFFFF;\n",
              "    }\n",
              "  </style>\n",
              "\n",
              "      <script>\n",
              "        const buttonEl =\n",
              "          document.querySelector('#df-2eb1a872-db67-4764-b9fc-68c36a373a65 button.colab-df-convert');\n",
              "        buttonEl.style.display =\n",
              "          google.colab.kernel.accessAllowed ? 'block' : 'none';\n",
              "\n",
              "        async function convertToInteractive(key) {\n",
              "          const element = document.querySelector('#df-2eb1a872-db67-4764-b9fc-68c36a373a65');\n",
              "          const dataTable =\n",
              "            await google.colab.kernel.invokeFunction('convertToInteractive',\n",
              "                                                     [key], {});\n",
              "          if (!dataTable) return;\n",
              "\n",
              "          const docLinkHtml = 'Like what you see? Visit the ' +\n",
              "            '<a target=\"_blank\" href=https://colab.research.google.com/notebooks/data_table.ipynb>data table notebook</a>'\n",
              "            + ' to learn more about interactive tables.';\n",
              "          element.innerHTML = '';\n",
              "          dataTable['output_type'] = 'display_data';\n",
              "          await google.colab.output.renderOutput(dataTable, element);\n",
              "          const docLink = document.createElement('div');\n",
              "          docLink.innerHTML = docLinkHtml;\n",
              "          element.appendChild(docLink);\n",
              "        }\n",
              "      </script>\n",
              "    </div>\n",
              "  </div>\n",
              "  "
            ]
          },
          "metadata": {},
          "execution_count": 94
        }
      ]
    },
    {
      "cell_type": "code",
      "source": [
        "df['feature_50']"
      ],
      "metadata": {
        "colab": {
          "base_uri": "https://localhost:8080/"
        },
        "id": "ttSXgZoe8_kI",
        "outputId": "b0ccc9ca-3cc3-433b-e6bc-7e23e4738a55"
      },
      "execution_count": 95,
      "outputs": [
        {
          "output_type": "execute_result",
          "data": {
            "text/plain": [
              "0        7984b0a0e139cabadb5afc7756d473fb34d23819 47904...\n",
              "1        7984b0a0e139cabadb5afc7756d473fb34d23819 47904...\n",
              "2        7984b0a0e139cabadb5afc7756d473fb34d23819 47904...\n",
              "3        7984b0a0e139cabadb5afc7756d473fb34d23819 47904...\n",
              "4        7984b0a0e139cabadb5afc7756d473fb34d23819 47904...\n",
              "                               ...                        \n",
              "49003    59b7b0f7a586908eec25f56656202691329b5cd8 8ff89...\n",
              "49004    59b7b0f7a586908eec25f56656202691329b5cd8 8ff89...\n",
              "49005    59b7b0f7a586908eec25f56656202691329b5cd8 8ff89...\n",
              "49006    59b7b0f7a586908eec25f56656202691329b5cd8 8ff89...\n",
              "49007    59b7b0f7a586908eec25f56656202691329b5cd8 8ff89...\n",
              "Name: feature_50, Length: 49008, dtype: object"
            ]
          },
          "metadata": {},
          "execution_count": 95
        }
      ]
    },
    {
      "cell_type": "code",
      "source": [
        "df[\"feature_25\"].fillna( method ='ffill', inplace = True)"
      ],
      "metadata": {
        "id": "K98aFHwi9sFN"
      },
      "execution_count": 96,
      "outputs": []
    },
    {
      "cell_type": "code",
      "execution_count": 97,
      "metadata": {
        "id": "T1wGhCBBDO7T"
      },
      "outputs": [],
      "source": [
        "X = df.drop(columns=['target'], axis=0).copy()"
      ]
    },
    {
      "cell_type": "code",
      "execution_count": 98,
      "metadata": {
        "id": "-tUIfTHJGI8C"
      },
      "outputs": [],
      "source": [
        "Y = df['target']"
      ]
    },
    {
      "cell_type": "code",
      "execution_count": 99,
      "metadata": {
        "id": "P1craqkALxX0"
      },
      "outputs": [],
      "source": [
        "from sklearn.preprocessing import StandardScaler"
      ]
    },
    {
      "cell_type": "code",
      "execution_count": 100,
      "metadata": {
        "colab": {
          "base_uri": "https://localhost:8080/",
          "height": 386
        },
        "id": "r47YOgZ-G9JS",
        "outputId": "3d678435-bc9f-4cf0-fdad-c12095b185b4"
      },
      "outputs": [
        {
          "output_type": "execute_result",
          "data": {
            "text/plain": [
              "<seaborn.axisgrid.FacetGrid at 0x7fdd748d7d90>"
            ]
          },
          "metadata": {},
          "execution_count": 100
        },
        {
          "output_type": "display_data",
          "data": {
            "text/plain": [
              "<Figure size 402.375x360 with 1 Axes>"
            ],
            "image/png": "[encoded data removed]"
          },
          "metadata": {
            "needs_background": "light"
          }
        }
      ],
      "source": [
        "sns.catplot(\n",
        "    data=df, x=\"period\", y=\"feature_46\", hue=\"target\",\n",
        "    kind=\"violin\", split=True,\n",
        ")"
      ]
    },
    {
      "cell_type": "code",
      "source": [
        "X_train, X_test, y_train, y_test = train_test_split(X, Y, test_size=0.3, random_state=42)"
      ],
      "metadata": {
        "id": "mKaGTiKm1vNU"
      },
      "execution_count": 101,
      "outputs": []
    },
    {
      "cell_type": "code",
      "source": [
        "text_feature = ['feature_50']\n",
        "cat_feature = ['feature_25']"
      ],
      "metadata": {
        "id": "sGz9i2p08tal"
      },
      "execution_count": 102,
      "outputs": []
    },
    {
      "cell_type": "code",
      "source": [
        "model = CatBoostClassifier(verbose=100, eval_metric='AUC', text_features=text_feature, cat_features=cat_feature)"
      ],
      "metadata": {
        "id": "gBtzjUZQ2e78"
      },
      "execution_count": 103,
      "outputs": []
    },
    {
      "cell_type": "code",
      "source": [
        "model.fit(X_train, y_train, eval_set=(X_test, y_test))"
      ],
      "metadata": {
        "colab": {
          "base_uri": "https://localhost:8080/"
        },
        "id": "80w1qCfC2iaN",
        "outputId": "33c81e97-4158-4d8b-daff-b80bdcab03c1"
      },
      "execution_count": 104,
      "outputs": [
        {
          "output_type": "stream",
          "name": "stdout",
          "text": [
            "Learning rate set to 0.075883\n",
            "0:\ttest: 0.6981313\tbest: 0.6981313 (0)\ttotal: 380ms\tremaining: 6m 20s\n",
            "100:\ttest: 0.8291061\tbest: 0.8291061 (100)\ttotal: 36s\tremaining: 5m 20s\n",
            "200:\ttest: 0.9004578\tbest: 0.9004578 (200)\ttotal: 1m 10s\tremaining: 4m 39s\n",
            "300:\ttest: 0.9457250\tbest: 0.9457250 (300)\ttotal: 1m 46s\tremaining: 4m 6s\n",
            "400:\ttest: 0.9705691\tbest: 0.9705691 (400)\ttotal: 2m 21s\tremaining: 3m 30s\n",
            "500:\ttest: 0.9833346\tbest: 0.9833346 (500)\ttotal: 2m 55s\tremaining: 2m 55s\n",
            "600:\ttest: 0.9890637\tbest: 0.9890637 (600)\ttotal: 3m 30s\tremaining: 2m 19s\n",
            "700:\ttest: 0.9926474\tbest: 0.9926474 (700)\ttotal: 4m 5s\tremaining: 1m 44s\n",
            "800:\ttest: 0.9946919\tbest: 0.9946919 (800)\ttotal: 4m 40s\tremaining: 1m 9s\n",
            "900:\ttest: 0.9965731\tbest: 0.9965736 (899)\ttotal: 5m 15s\tremaining: 34.7s\n",
            "999:\ttest: 0.9975364\tbest: 0.9975364 (999)\ttotal: 5m 50s\tremaining: 0us\n",
            "\n",
            "bestTest = 0.9975363503\n",
            "bestIteration = 999\n",
            "\n"
          ]
        },
        {
          "output_type": "execute_result",
          "data": {
            "text/plain": [
              "<catboost.core.CatBoostClassifier at 0x7fdd73a5b8e0>"
            ]
          },
          "metadata": {},
          "execution_count": 104
        }
      ]
    },
    {
      "cell_type": "code",
      "source": [],
      "metadata": {
        "id": "Nv3doM1j_2sS"
      },
      "execution_count": 104,
      "outputs": []
    }
  ],
  "metadata": {
    "colab": {
      "provenance": [],
      "authorship_tag": "ABX9TyNaqaDpa84fmjFPZIUU5V5q"
    },
    "kernelspec": {
      "display_name": "Python 3",
      "name": "python3"
    },
    "language_info": {
      "name": "python"
    }
  },
  "nbformat": 4,
  "nbformat_minor": 0
}